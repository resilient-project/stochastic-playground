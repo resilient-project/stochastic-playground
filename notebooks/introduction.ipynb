{
 "cells": [
  {
   "cell_type": "markdown",
   "id": "b91a8dcd",
   "metadata": {},
   "source": [
    "# Stochastic Network Optimisation with PyPSA"
   ]
  },
  {
   "cell_type": "markdown",
   "id": "fb51d30b",
   "metadata": {},
   "source": [
    "https://pypsa--1250.org.readthedocs.build/en/1250/examples/stochastic-optimization/#two-stage-stochastic-programming"
   ]
  },
  {
   "cell_type": "code",
   "execution_count": 7,
   "id": "53612439",
   "metadata": {},
   "outputs": [],
   "source": [
    "import matplotlib.pyplot as plt\n",
    "import pandas as pd\n",
    "from linopy.expressions import merge\n",
    "from xarray import DataArray\n",
    "\n",
    "import pypsa\n",
    "from pypsa.components.common import as_components"
   ]
  },
  {
   "cell_type": "code",
   "execution_count": 8,
   "id": "1eec2e42",
   "metadata": {},
   "outputs": [
    {
     "name": "stdout",
     "output_type": "stream",
     "text": [
      "0.35.0.post1.dev106+g2c22e7f\n"
     ]
    }
   ],
   "source": [
    "print(pypsa.__version__)"
   ]
  },
  {
   "cell_type": "markdown",
   "id": "bf7369c3",
   "metadata": {},
   "source": [
    "## Toy problem"
   ]
  },
  {
   "cell_type": "code",
   "execution_count": 9,
   "id": "2ee45478",
   "metadata": {},
   "outputs": [],
   "source": [
    "# Scenario definitions - Gas price uncertainty\n",
    "SCENARIOS = [\"low\", \"med\", \"high\"]\n",
    "GAS_PRICES = {\"low\": 40, \"med\": 70, \"high\": 100}  # EUR/MWh_th\n",
    "PROB = {\"low\": 0.4, \"med\": 0.3, \"high\": 0.3}  # Scenario probabilities\n",
    "BASE = \"low\"  # Base scenario for network construction\n",
    "\n",
    "# System parameters\n",
    "FREQ = \"3h\"  # Time resolution\n",
    "LOAD_MW = 1  # Constant load (MW)\n",
    "SOLVER = \"highs\"  # Optimization solver\n",
    "\n",
    "# Time series data URL\n",
    "TS_URL = (\n",
    "    \"https://tubcloud.tu-berlin.de/s/pKttFadrbTKSJKF/download/time-series-lecture-2.csv\"\n",
    ")\n",
    "\n",
    "# Load and process time series data\n",
    "ts = pd.read_csv(TS_URL, index_col=0, parse_dates=True)\n",
    "ts = ts.resample(FREQ).asfreq()  # Resample to 3-hour resolution\n",
    "\n",
    "\n",
    "# Technology specifications\n",
    "def annuity(life, rate):\n",
    "    \"\"\"Compute capital recovery factor for annualizing investment costs.\"\"\"\n",
    "    return rate / (1 - (1 + rate) ** -life) if rate else 1 / life\n",
    "\n",
    "\n",
    "# Technology data: investment costs, efficiencies, marginal costs\n",
    "TECH = {\n",
    "    \"solar\": {\"profile\": \"solar\", \"inv\": 1e6, \"m_cost\": 0.01},\n",
    "    \"wind\": {\"profile\": \"onwind\", \"inv\": 2e6, \"m_cost\": 0.02},\n",
    "    \"gas\": {\"inv\": 7e5, \"eff\": 0.6},\n",
    "    \"lignite\": {\"inv\": 1.3e6, \"eff\": 0.4, \"m_cost\": 130},\n",
    "}\n",
    "\n",
    "# Financial parameters\n",
    "FOM, DR, LIFE = 3.0, 0.03, 25  # Fixed O&M (%), discount rate, lifetime (years)\n",
    "\n",
    "# Calculate annualized capital costs\n",
    "for cfg in TECH.values():\n",
    "    cfg[\"fixed_cost\"] = (annuity(LIFE, DR) + FOM / 100) * cfg[\"inv\"]"
   ]
  },
  {
   "cell_type": "markdown",
   "id": "9111cccb",
   "metadata": {},
   "source": [
    "## Helper functions for visualisation"
   ]
  },
  {
   "cell_type": "code",
   "execution_count": 10,
   "id": "bd5369fa",
   "metadata": {},
   "outputs": [],
   "source": [
    "# Color mapping for visualizations\n",
    "COLOR_MAP = {\n",
    "    \"solar\": \"gold\",\n",
    "    \"wind\": \"skyblue\",\n",
    "    \"gas\": \"brown\",\n",
    "    \"lignite\": \"black\",\n",
    "}\n",
    "\n",
    "\n",
    "def plot_capacity(\n",
    "    df,\n",
    "    title=\"Capacity Mix\",\n",
    "    xlabel=\"Scenario\",\n",
    "    ylabel=\"Capacity (MW)\",\n",
    "    figsize=(8, 4),\n",
    "    color_map=None,\n",
    "    rotation=0,\n",
    "):\n",
    "    \"\"\"Plot capacity mix as stacked bar chart\"\"\"\n",
    "    if color_map is None:\n",
    "        color_map = COLOR_MAP\n",
    "\n",
    "    colors = [color_map.get(c, \"gray\") for c in df.columns]\n",
    "    ax = df.plot(kind=\"bar\", stacked=True, figsize=figsize, color=colors)\n",
    "    ax.set(title=title, xlabel=xlabel, ylabel=ylabel)\n",
    "    ax.legend(bbox_to_anchor=(1.05, 1), loc=\"upper left\")\n",
    "    plt.xticks(rotation=rotation, ha=\"right\" if rotation > 0 else \"center\")\n",
    "    plt.tight_layout()\n",
    "    return ax\n",
    "\n",
    "\n",
    "def plot_cost(\n",
    "    series,\n",
    "    title=\"Total Cost\",\n",
    "    xlabel=\"Scenario\",\n",
    "    ylabel=\"Cost (EUR/year)\",\n",
    "    figsize=(6, 4),\n",
    "    rotation=0,\n",
    "):\n",
    "    \"\"\"Plot costs as bar chart\"\"\"\n",
    "    ax = series.plot(kind=\"bar\", figsize=figsize, color=\"steelblue\")\n",
    "    ax.set(title=title, xlabel=xlabel, ylabel=ylabel)\n",
    "    # Format y-axis as millions\n",
    "    ax.yaxis.set_major_formatter(plt.FuncFormatter(lambda x, p: f\"{x / 1e6:.1f}M\"))\n",
    "    plt.xticks(rotation=rotation, ha=\"right\" if rotation > 0 else \"center\")\n",
    "    plt.tight_layout()\n",
    "    return ax"
   ]
  },
  {
   "cell_type": "markdown",
   "id": "6f045147",
   "metadata": {},
   "source": [
    "## Create PyPSA network for the toy problem"
   ]
  },
  {
   "cell_type": "code",
   "execution_count": 11,
   "id": "99cc9671",
   "metadata": {},
   "outputs": [],
   "source": [
    "def build_network(gas_price):\n",
    "    \"\"\"\n",
    "    Create PyPSA network with:\n",
    "    - Single bus (DE) with constant load\n",
    "    - Extendable generators: solar, wind, gas, lignite\n",
    "    \"\"\"\n",
    "    n = pypsa.Network()\n",
    "    n.set_snapshots(ts.index)\n",
    "    n.snapshot_weightings = pd.Series(int(FREQ[:-1]), index=ts.index)  # 3-hour weights\n",
    "\n",
    "    # Add bus and load\n",
    "    n.add(\"Bus\", \"DE\")\n",
    "    n.add(\"Load\", \"DE_load\", bus=\"DE\", p_set=LOAD_MW)\n",
    "\n",
    "    # Add renewable generators (variable renewable energy)\n",
    "    for tech in [\"solar\", \"wind\"]:\n",
    "        cfg = TECH[tech]\n",
    "        n.add(\n",
    "            \"Generator\",\n",
    "            tech,\n",
    "            bus=\"DE\",\n",
    "            p_nom_extendable=True,\n",
    "            p_max_pu=ts[cfg[\"profile\"]],  # Renewable availability profile\n",
    "            capital_cost=cfg[\"fixed_cost\"],\n",
    "            marginal_cost=cfg[\"m_cost\"],\n",
    "        )\n",
    "\n",
    "    # Add conventional generators (dispatchable)\n",
    "    for tech in [\"gas\", \"lignite\"]:\n",
    "        cfg = TECH[tech]\n",
    "        # Gas marginal cost depends on gas price and efficiency\n",
    "        mc = (gas_price / cfg.get(\"eff\")) if tech == \"gas\" else cfg[\"m_cost\"]\n",
    "        n.add(\n",
    "            \"Generator\",\n",
    "            tech,\n",
    "            bus=\"DE\",\n",
    "            p_nom_extendable=True,\n",
    "            efficiency=cfg.get(\"eff\"),\n",
    "            capital_cost=cfg[\"fixed_cost\"],\n",
    "            marginal_cost=mc,\n",
    "        )\n",
    "    return n"
   ]
  }
 ],
 "metadata": {
  "kernelspec": {
   "display_name": "pypsa-eur-new-opt",
   "language": "python",
   "name": "python3"
  },
  "language_info": {
   "codemirror_mode": {
    "name": "ipython",
    "version": 3
   },
   "file_extension": ".py",
   "mimetype": "text/x-python",
   "name": "python",
   "nbconvert_exporter": "python",
   "pygments_lexer": "ipython3",
   "version": "3.12.11"
  }
 },
 "nbformat": 4,
 "nbformat_minor": 5
}
